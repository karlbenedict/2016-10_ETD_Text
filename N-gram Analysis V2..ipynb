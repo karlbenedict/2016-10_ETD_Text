{
 "cells": [
  {
   "cell_type": "code",
   "execution_count": 1,
   "metadata": {
    "collapsed": true
   },
   "outputs": [],
   "source": [
    "# Python script for generating ngrams from the UNM electronic theses and dissertation\n",
    "# title and abstracts extracted from http://repository.unm.edu in 2016-10. \n"
   ]
  },
  {
   "cell_type": "code",
   "execution_count": 20,
   "metadata": {
    "collapsed": true
   },
   "outputs": [],
   "source": [
    "import nltk\n",
    "from nltk.util import ngrams\n",
    "from nltk.corpus import stopwords\n",
    "from operator import itemgetter"
   ]
  },
  {
   "cell_type": "code",
   "execution_count": 45,
   "metadata": {
    "collapsed": false
   },
   "outputs": [
    {
     "name": "stdout",
     "output_type": "stream",
     "text": [
      "Total words in the separate source lists: 4966\n",
      "Total unique stop words in the combined list: 4543\n"
     ]
    }
   ],
   "source": [
    "stop = set(stopwords.words('english'))\n",
    "punctuation = set(u\".,;:()'\\\"[]{}<>?!=/#%&$12345678910\".decode('utf8'))\n",
    "annoyances = set({u'``',u\"''\",u'\\x9d',u\"'s\"})\n",
    "longstoplist = {}\n",
    "awl = {}\n",
    "\n",
    "with open('longstoplist.txt','r') as infile:\n",
    "    listtext = nltk.word_tokenize(infile.read().decode('utf8').lower())\n",
    "    longstoplist = set(listtext)\n",
    "with open('AWL.txt','r') as infile:\n",
    "    listtext = nltk.word_tokenize(infile.read().decode('utf8').lower())\n",
    "    awl = set(listtext)\n",
    "\n",
    "fullstop = sorted((stop | punctuation | longstoplist | awl | annoyances), key=itemgetter(0))\n",
    "totalStopWords = len(stop) + len(punctuation) + len(longstoplist) + len(awl) + len(annoyances)\n",
    "\n",
    "with open('fullStopWords.txt','w') as outfile:\n",
    "    for word in fullstop:\n",
    "        #print word\n",
    "        outfile.write(word.encode(\"UTF-8\")+\"\\n\")\n",
    "    \n",
    "\n",
    "print \"Total words in the separate source lists: \" + str(totalStopWords)\n",
    "print \"Total unique stop words in the combined list: \" + str(len(fullstop))"
   ]
  },
  {
   "cell_type": "code",
   "execution_count": 46,
   "metadata": {
    "collapsed": false
   },
   "outputs": [],
   "source": [
    "n = [1,2,3,4]\n",
    "xgrams = []\n",
    "\n",
    "with open('abstracts.txt', 'r') as infile:\n",
    "    tokens = nltk.word_tokenize(infile.read().decode('utf8'))\n",
    "    filteredTokens = [w.lower() for w in tokens if not w.lower() in fullstop]\n",
    "    for thisN in n:\n",
    "        thisgram = ngrams(filteredTokens,thisN)\n",
    "        fdist = sorted(nltk.FreqDist(thisgram).items(),key=itemgetter(1), reverse=True) \n",
    "        xgrams.extend([[thisN,fdist]])\n"
   ]
  },
  {
   "cell_type": "code",
   "execution_count": 47,
   "metadata": {
    "collapsed": false
   },
   "outputs": [],
   "source": [
    "for xgram in xgrams:\n",
    "    thisN = xgram[0]\n",
    "    outFileName = \"_\".join([str(thisN),\"grams.txt\"])\n",
    "    with open(outFileName, 'w') as outFile:\n",
    "        for item in xgram[1]:\n",
    "            outputString =  '\\t'.join([' '.join(item[0]),str(item[1]),'\\n'])\n",
    "            # print outputString\n",
    "            outFile.write(outputString.encode('utf8'))            "
   ]
  },
  {
   "cell_type": "code",
   "execution_count": null,
   "metadata": {
    "collapsed": false
   },
   "outputs": [],
   "source": [
    "\n",
    "\n"
   ]
  },
  {
   "cell_type": "code",
   "execution_count": null,
   "metadata": {
    "collapsed": false
   },
   "outputs": [],
   "source": []
  },
  {
   "cell_type": "code",
   "execution_count": null,
   "metadata": {
    "collapsed": true
   },
   "outputs": [],
   "source": []
  }
 ],
 "metadata": {
  "kernelspec": {
   "display_name": "Python 2",
   "language": "python",
   "name": "python2"
  },
  "language_info": {
   "codemirror_mode": {
    "name": "ipython",
    "version": 2
   },
   "file_extension": ".py",
   "mimetype": "text/x-python",
   "name": "python",
   "nbconvert_exporter": "python",
   "pygments_lexer": "ipython2",
   "version": "2.7.10"
  }
 },
 "nbformat": 4,
 "nbformat_minor": 0
}
